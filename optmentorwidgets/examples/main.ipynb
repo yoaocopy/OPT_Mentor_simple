{
 "cells": [
  {
   "cell_type": "markdown",
   "metadata": {
    "user_expressions": []
   },
   "source": [
    "## OPT Mentor Widgets"
   ]
  },
  {
   "cell_type": "markdown",
   "metadata": {
    "user_expressions": []
   },
   "source": [
    "[![Open In Colab](https://colab.research.google.com/assets/colab-badge.svg)](https://colab.research.google.com/github/dive4dec/divewidgets/blob/main/examples/main.ipynb)"
   ]
  },
  {
   "cell_type": "code",
   "execution_count": 3,
   "metadata": {},
   "outputs": [
    {
     "name": "stdout",
     "output_type": "stream",
     "text": [
      "Requirement already satisfied: optmentorwidgets in /opt/homebrew/anaconda3/envs/widgets-dev/lib/python3.13/site-packages (0.2.5)\n",
      "Requirement already satisfied: ipywidgets>=7.0.0 in /opt/homebrew/anaconda3/envs/widgets-dev/lib/python3.13/site-packages (from optmentorwidgets) (8.1.5)\n",
      "Requirement already satisfied: comm>=0.1.3 in /opt/homebrew/anaconda3/envs/widgets-dev/lib/python3.13/site-packages (from ipywidgets>=7.0.0->optmentorwidgets) (0.2.2)\n",
      "Requirement already satisfied: ipython>=6.1.0 in /opt/homebrew/anaconda3/envs/widgets-dev/lib/python3.13/site-packages (from ipywidgets>=7.0.0->optmentorwidgets) (9.0.2)\n",
      "Requirement already satisfied: traitlets>=4.3.1 in /opt/homebrew/anaconda3/envs/widgets-dev/lib/python3.13/site-packages (from ipywidgets>=7.0.0->optmentorwidgets) (5.14.3)\n",
      "Requirement already satisfied: widgetsnbextension~=4.0.12 in /opt/homebrew/anaconda3/envs/widgets-dev/lib/python3.13/site-packages (from ipywidgets>=7.0.0->optmentorwidgets) (4.0.13)\n",
      "Requirement already satisfied: jupyterlab-widgets~=3.0.12 in /opt/homebrew/anaconda3/envs/widgets-dev/lib/python3.13/site-packages (from ipywidgets>=7.0.0->optmentorwidgets) (3.0.13)\n",
      "Requirement already satisfied: decorator in /opt/homebrew/anaconda3/envs/widgets-dev/lib/python3.13/site-packages (from ipython>=6.1.0->ipywidgets>=7.0.0->optmentorwidgets) (5.2.1)\n",
      "Requirement already satisfied: ipython-pygments-lexers in /opt/homebrew/anaconda3/envs/widgets-dev/lib/python3.13/site-packages (from ipython>=6.1.0->ipywidgets>=7.0.0->optmentorwidgets) (1.1.1)\n",
      "Requirement already satisfied: jedi>=0.16 in /opt/homebrew/anaconda3/envs/widgets-dev/lib/python3.13/site-packages (from ipython>=6.1.0->ipywidgets>=7.0.0->optmentorwidgets) (0.19.2)\n",
      "Requirement already satisfied: matplotlib-inline in /opt/homebrew/anaconda3/envs/widgets-dev/lib/python3.13/site-packages (from ipython>=6.1.0->ipywidgets>=7.0.0->optmentorwidgets) (0.1.7)\n",
      "Requirement already satisfied: pexpect>4.3 in /opt/homebrew/anaconda3/envs/widgets-dev/lib/python3.13/site-packages (from ipython>=6.1.0->ipywidgets>=7.0.0->optmentorwidgets) (4.9.0)\n",
      "Requirement already satisfied: prompt_toolkit<3.1.0,>=3.0.41 in /opt/homebrew/anaconda3/envs/widgets-dev/lib/python3.13/site-packages (from ipython>=6.1.0->ipywidgets>=7.0.0->optmentorwidgets) (3.0.50)\n",
      "Requirement already satisfied: pygments>=2.4.0 in /opt/homebrew/anaconda3/envs/widgets-dev/lib/python3.13/site-packages (from ipython>=6.1.0->ipywidgets>=7.0.0->optmentorwidgets) (2.19.1)\n",
      "Requirement already satisfied: stack_data in /opt/homebrew/anaconda3/envs/widgets-dev/lib/python3.13/site-packages (from ipython>=6.1.0->ipywidgets>=7.0.0->optmentorwidgets) (0.6.3)\n",
      "Requirement already satisfied: parso<0.9.0,>=0.8.4 in /opt/homebrew/anaconda3/envs/widgets-dev/lib/python3.13/site-packages (from jedi>=0.16->ipython>=6.1.0->ipywidgets>=7.0.0->optmentorwidgets) (0.8.4)\n",
      "Requirement already satisfied: ptyprocess>=0.5 in /opt/homebrew/anaconda3/envs/widgets-dev/lib/python3.13/site-packages (from pexpect>4.3->ipython>=6.1.0->ipywidgets>=7.0.0->optmentorwidgets) (0.7.0)\n",
      "Requirement already satisfied: wcwidth in /opt/homebrew/anaconda3/envs/widgets-dev/lib/python3.13/site-packages (from prompt_toolkit<3.1.0,>=3.0.41->ipython>=6.1.0->ipywidgets>=7.0.0->optmentorwidgets) (0.2.13)\n",
      "Requirement already satisfied: executing>=1.2.0 in /opt/homebrew/anaconda3/envs/widgets-dev/lib/python3.13/site-packages (from stack_data->ipython>=6.1.0->ipywidgets>=7.0.0->optmentorwidgets) (2.1.0)\n",
      "Requirement already satisfied: asttokens>=2.1.0 in /opt/homebrew/anaconda3/envs/widgets-dev/lib/python3.13/site-packages (from stack_data->ipython>=6.1.0->ipywidgets>=7.0.0->optmentorwidgets) (3.0.0)\n",
      "Requirement already satisfied: pure_eval in /opt/homebrew/anaconda3/envs/widgets-dev/lib/python3.13/site-packages (from stack_data->ipython>=6.1.0->ipywidgets>=7.0.0->optmentorwidgets) (0.2.3)\n",
      "Note: you may need to restart the kernel to use updated packages.\n"
     ]
    },
    {
     "ename": "ModuleNotFoundError",
     "evalue": "No module named 'optmentorwidgets'",
     "output_type": "error",
     "traceback": [
      "\u001b[31m---------------------------------------------------------------------------\u001b[39m",
      "\u001b[31mModuleNotFoundError\u001b[39m                       Traceback (most recent call last)",
      "\u001b[36mCell\u001b[39m\u001b[36m \u001b[39m\u001b[32mIn[3]\u001b[39m\u001b[32m, line 3\u001b[39m\n\u001b[32m      1\u001b[39m \u001b[38;5;66;03m# install in your JupyterLite\u001b[39;00m\n\u001b[32m      2\u001b[39m get_ipython().run_line_magic(\u001b[33m'\u001b[39m\u001b[33mpip\u001b[39m\u001b[33m'\u001b[39m, \u001b[33m'\u001b[39m\u001b[33minstall optmentorwidgets\u001b[39m\u001b[33m'\u001b[39m)\n\u001b[32m----> \u001b[39m\u001b[32m3\u001b[39m \u001b[43mget_ipython\u001b[49m\u001b[43m(\u001b[49m\u001b[43m)\u001b[49m\u001b[43m.\u001b[49m\u001b[43mrun_line_magic\u001b[49m\u001b[43m(\u001b[49m\u001b[33;43m'\u001b[39;49m\u001b[33;43mreload_ext\u001b[39;49m\u001b[33;43m'\u001b[39;49m\u001b[43m,\u001b[49m\u001b[43m \u001b[49m\u001b[33;43m'\u001b[39;49m\u001b[33;43moptmentorwidgets\u001b[39;49m\u001b[33;43m'\u001b[39;49m\u001b[43m)\u001b[49m\n",
      "\u001b[36mFile \u001b[39m\u001b[32m/opt/homebrew/anaconda3/envs/widgets-dev/lib/python3.13/site-packages/IPython/core/interactiveshell.py:2481\u001b[39m, in \u001b[36mInteractiveShell.run_line_magic\u001b[39m\u001b[34m(self, magic_name, line, _stack_depth)\u001b[39m\n\u001b[32m   2479\u001b[39m     kwargs[\u001b[33m'\u001b[39m\u001b[33mlocal_ns\u001b[39m\u001b[33m'\u001b[39m] = \u001b[38;5;28mself\u001b[39m.get_local_scope(stack_depth)\n\u001b[32m   2480\u001b[39m \u001b[38;5;28;01mwith\u001b[39;00m \u001b[38;5;28mself\u001b[39m.builtin_trap:\n\u001b[32m-> \u001b[39m\u001b[32m2481\u001b[39m     result = \u001b[43mfn\u001b[49m\u001b[43m(\u001b[49m\u001b[43m*\u001b[49m\u001b[43margs\u001b[49m\u001b[43m,\u001b[49m\u001b[43m \u001b[49m\u001b[43m*\u001b[49m\u001b[43m*\u001b[49m\u001b[43mkwargs\u001b[49m\u001b[43m)\u001b[49m\n\u001b[32m   2483\u001b[39m \u001b[38;5;66;03m# The code below prevents the output from being displayed\u001b[39;00m\n\u001b[32m   2484\u001b[39m \u001b[38;5;66;03m# when using magics with decorator @output_can_be_silenced\u001b[39;00m\n\u001b[32m   2485\u001b[39m \u001b[38;5;66;03m# when the last Python token in the expression is a ';'.\u001b[39;00m\n\u001b[32m   2486\u001b[39m \u001b[38;5;28;01mif\u001b[39;00m \u001b[38;5;28mgetattr\u001b[39m(fn, magic.MAGIC_OUTPUT_CAN_BE_SILENCED, \u001b[38;5;28;01mFalse\u001b[39;00m):\n",
      "\u001b[36mFile \u001b[39m\u001b[32m/opt/homebrew/anaconda3/envs/widgets-dev/lib/python3.13/site-packages/IPython/core/magics/extension.py:63\u001b[39m, in \u001b[36mExtensionMagics.reload_ext\u001b[39m\u001b[34m(self, module_str)\u001b[39m\n\u001b[32m     61\u001b[39m \u001b[38;5;28;01mif\u001b[39;00m \u001b[38;5;129;01mnot\u001b[39;00m module_str:\n\u001b[32m     62\u001b[39m     \u001b[38;5;28;01mraise\u001b[39;00m UsageError(\u001b[33m'\u001b[39m\u001b[33mMissing module name.\u001b[39m\u001b[33m'\u001b[39m)\n\u001b[32m---> \u001b[39m\u001b[32m63\u001b[39m \u001b[38;5;28;43mself\u001b[39;49m\u001b[43m.\u001b[49m\u001b[43mshell\u001b[49m\u001b[43m.\u001b[49m\u001b[43mextension_manager\u001b[49m\u001b[43m.\u001b[49m\u001b[43mreload_extension\u001b[49m\u001b[43m(\u001b[49m\u001b[43mmodule_str\u001b[49m\u001b[43m)\u001b[49m\n",
      "\u001b[36mFile \u001b[39m\u001b[32m/opt/homebrew/anaconda3/envs/widgets-dev/lib/python3.13/site-packages/IPython/core/extensions.py:125\u001b[39m, in \u001b[36mExtensionManager.reload_extension\u001b[39m\u001b[34m(self, module_str)\u001b[39m\n\u001b[32m    123\u001b[39m         \u001b[38;5;28mself\u001b[39m.loaded.add(module_str)\n\u001b[32m    124\u001b[39m \u001b[38;5;28;01melse\u001b[39;00m:\n\u001b[32m--> \u001b[39m\u001b[32m125\u001b[39m     \u001b[38;5;28;43mself\u001b[39;49m\u001b[43m.\u001b[49m\u001b[43mload_extension\u001b[49m\u001b[43m(\u001b[49m\u001b[43mmodule_str\u001b[49m\u001b[43m)\u001b[49m\n",
      "\u001b[36mFile \u001b[39m\u001b[32m/opt/homebrew/anaconda3/envs/widgets-dev/lib/python3.13/site-packages/IPython/core/extensions.py:62\u001b[39m, in \u001b[36mExtensionManager.load_extension\u001b[39m\u001b[34m(self, module_str)\u001b[39m\n\u001b[32m     55\u001b[39m \u001b[38;5;250m\u001b[39m\u001b[33;03m\"\"\"Load an IPython extension by its module name.\u001b[39;00m\n\u001b[32m     56\u001b[39m \n\u001b[32m     57\u001b[39m \u001b[33;03mReturns the string \"already loaded\" if the extension is already loaded,\u001b[39;00m\n\u001b[32m     58\u001b[39m \u001b[33;03m\"no load function\" if the module doesn't have a load_ipython_extension\u001b[39;00m\n\u001b[32m     59\u001b[39m \u001b[33;03mfunction, or None if it succeeded.\u001b[39;00m\n\u001b[32m     60\u001b[39m \u001b[33;03m\"\"\"\u001b[39;00m\n\u001b[32m     61\u001b[39m \u001b[38;5;28;01mtry\u001b[39;00m:\n\u001b[32m---> \u001b[39m\u001b[32m62\u001b[39m     \u001b[38;5;28;01mreturn\u001b[39;00m \u001b[38;5;28;43mself\u001b[39;49m\u001b[43m.\u001b[49m\u001b[43m_load_extension\u001b[49m\u001b[43m(\u001b[49m\u001b[43mmodule_str\u001b[49m\u001b[43m)\u001b[49m\n\u001b[32m     63\u001b[39m \u001b[38;5;28;01mexcept\u001b[39;00m \u001b[38;5;167;01mModuleNotFoundError\u001b[39;00m:\n\u001b[32m     64\u001b[39m     \u001b[38;5;28;01mif\u001b[39;00m module_str \u001b[38;5;129;01min\u001b[39;00m BUILTINS_EXTS:\n",
      "\u001b[36mFile \u001b[39m\u001b[32m/opt/homebrew/anaconda3/envs/widgets-dev/lib/python3.13/site-packages/IPython/core/extensions.py:77\u001b[39m, in \u001b[36mExtensionManager._load_extension\u001b[39m\u001b[34m(self, module_str)\u001b[39m\n\u001b[32m     75\u001b[39m \u001b[38;5;28;01mwith\u001b[39;00m \u001b[38;5;28mself\u001b[39m.shell.builtin_trap:\n\u001b[32m     76\u001b[39m     \u001b[38;5;28;01mif\u001b[39;00m module_str \u001b[38;5;129;01mnot\u001b[39;00m \u001b[38;5;129;01min\u001b[39;00m sys.modules:\n\u001b[32m---> \u001b[39m\u001b[32m77\u001b[39m         mod = \u001b[43mimport_module\u001b[49m\u001b[43m(\u001b[49m\u001b[43mmodule_str\u001b[49m\u001b[43m)\u001b[49m\n\u001b[32m     78\u001b[39m     mod = sys.modules[module_str]\n\u001b[32m     79\u001b[39m     \u001b[38;5;28;01mif\u001b[39;00m \u001b[38;5;28mself\u001b[39m._call_load_ipython_extension(mod):\n",
      "\u001b[36mFile \u001b[39m\u001b[32m/opt/homebrew/anaconda3/envs/widgets-dev/lib/python3.13/importlib/__init__.py:88\u001b[39m, in \u001b[36mimport_module\u001b[39m\u001b[34m(name, package)\u001b[39m\n\u001b[32m     86\u001b[39m             \u001b[38;5;28;01mbreak\u001b[39;00m\n\u001b[32m     87\u001b[39m         level += \u001b[32m1\u001b[39m\n\u001b[32m---> \u001b[39m\u001b[32m88\u001b[39m \u001b[38;5;28;01mreturn\u001b[39;00m \u001b[43m_bootstrap\u001b[49m\u001b[43m.\u001b[49m\u001b[43m_gcd_import\u001b[49m\u001b[43m(\u001b[49m\u001b[43mname\u001b[49m\u001b[43m[\u001b[49m\u001b[43mlevel\u001b[49m\u001b[43m:\u001b[49m\u001b[43m]\u001b[49m\u001b[43m,\u001b[49m\u001b[43m \u001b[49m\u001b[43mpackage\u001b[49m\u001b[43m,\u001b[49m\u001b[43m \u001b[49m\u001b[43mlevel\u001b[49m\u001b[43m)\u001b[49m\n",
      "\u001b[36mFile \u001b[39m\u001b[32m<frozen importlib._bootstrap>:1387\u001b[39m, in \u001b[36m_gcd_import\u001b[39m\u001b[34m(name, package, level)\u001b[39m\n",
      "\u001b[36mFile \u001b[39m\u001b[32m<frozen importlib._bootstrap>:1360\u001b[39m, in \u001b[36m_find_and_load\u001b[39m\u001b[34m(name, import_)\u001b[39m\n",
      "\u001b[36mFile \u001b[39m\u001b[32m<frozen importlib._bootstrap>:1324\u001b[39m, in \u001b[36m_find_and_load_unlocked\u001b[39m\u001b[34m(name, import_)\u001b[39m\n",
      "\u001b[31mModuleNotFoundError\u001b[39m: No module named 'optmentorwidgets'"
     ]
    }
   ],
   "source": [
    "# install in your JupyterLite\n",
    "%pip install optmentorwidgets\n",
    "%reload_ext optmentorwidgets"
   ]
  },
  {
   "cell_type": "markdown",
   "metadata": {},
   "source": [
    "## Python Programming Visualization"
   ]
  },
  {
   "cell_type": "markdown",
   "metadata": {},
   "source": [
    "We can visualize step-by-step execution using the following magic."
   ]
  },
  {
   "cell_type": "code",
   "execution_count": 2,
   "metadata": {},
   "outputs": [
    {
     "name": "stdout",
     "output_type": "stream",
     "text": [
      "Object `%%optmentor` not found.\n"
     ]
    }
   ],
   "source": [
    "%%optmentor?"
   ]
  },
  {
   "cell_type": "code",
   "execution_count": 5,
   "metadata": {},
   "outputs": [
    {
     "name": "stderr",
     "output_type": "stream",
     "text": [
      "UsageError: Cell magic `%%optmentor` not found.\n"
     ]
    }
   ],
   "source": [
    "%%optmentor -w 1000 -h 500\n",
    "msg = 'Hello, World!'\n",
    "print(\"Testing here\")\n",
    "print(msg)"
   ]
  },
  {
   "cell_type": "markdown",
   "metadata": {},
   "source": [
    "The live edit mode"
   ]
  },
  {
   "cell_type": "code",
   "execution_count": 4,
   "metadata": {},
   "outputs": [
    {
     "name": "stderr",
     "output_type": "stream",
     "text": [
      "UsageError: Cell magic `%%optmentor` not found.\n"
     ]
    }
   ],
   "source": [
    "%%optmentor -rl -h 1000\n",
    "def f(n):\n",
    "    return n*f(n-1) if n>1 else f\n",
    "f(3)"
   ]
  },
  {
   "cell_type": "code",
   "execution_count": null,
   "metadata": {},
   "outputs": [],
   "source": []
  }
 ],
 "metadata": {
  "kernelspec": {
   "display_name": "widgets-dev",
   "language": "python",
   "name": "python3"
  },
  "language_info": {
   "codemirror_mode": {
    "name": "ipython",
    "version": 3
   },
   "file_extension": ".py",
   "mimetype": "text/x-python",
   "name": "python",
   "nbconvert_exporter": "python",
   "pygments_lexer": "ipython3",
   "version": "3.13.2"
  },
  "toc": {
   "base_numbering": 1,
   "nav_menu": {},
   "number_sections": true,
   "sideBar": true,
   "skip_h1_title": false,
   "title_cell": "Table of Contents",
   "title_sidebar": "Contents",
   "toc_cell": false,
   "toc_position": {},
   "toc_section_display": true,
   "toc_window_display": false
  },
  "widgets": {
   "application/vnd.jupyter.widget-state+json": {
    "state": {
     "02c06e44161742c6ab4f914eb6a998b6": {
      "model_module": "jupyter-divewidgets",
      "model_module_version": "^0.1.5",
      "model_name": "OPTWidgetModel",
      "state": {
       "_model_module_version": "^0.1.5",
       "_model_name": "OPTWidgetModel",
       "_view_module_version": "^0.1.5",
       "_view_name": "OPTWidgetView",
       "height": 300,
       "layout": "IPY_MODEL_a0b6e62912f0449f8939e8bbfdd8acbd",
       "script": "print('Hello, World!')\n",
       "srcprefix": "https://dive4dec.github.io/optlite/#mode=display&code=",
       "width": 1100
      }
     },
     "0fab2b68762a4f13a42603433b189460": {
      "model_module": "jupyter-divewidgets",
      "model_module_version": "^0.1.5",
      "model_name": "OPTWidgetModel",
      "state": {
       "_model_module_version": "^0.1.5",
       "_model_name": "OPTWidgetModel",
       "_view_module_version": "^0.1.5",
       "_view_name": "OPTWidgetView",
       "height": 700,
       "layout": "IPY_MODEL_b9b2ab31aaf84dd8b0b375d17d1c1456",
       "script": "print('Hello, World!')\n1\n2\n3\n4\n5\n6\n6\n7\n8\n9\n8\n8\n88\n",
       "srcprefix": "https://dive4dec.github.io/optlite/live.html#code=",
       "width": 1100
      }
     },
     "114952cb07fb4b3aa6b898afe768b317": {
      "model_module": "@jupyter-widgets/base",
      "model_module_version": "1.2.0",
      "model_name": "LayoutModel",
      "state": {}
     },
     "18bb091462c6435da92d89ae6f80eb72": {
      "model_module": "@jupyter-widgets/base",
      "model_module_version": "1.2.0",
      "model_name": "LayoutModel",
      "state": {}
     },
     "2925dd1bfca2496780efe6982f9ab934": {
      "model_module": "jupyter-divewidgets",
      "model_module_version": "^0.1.5",
      "model_name": "OPTWidgetModel",
      "state": {
       "_model_module_version": "^0.1.5",
       "_model_name": "OPTWidgetModel",
       "_view_module_version": "^0.1.5",
       "_view_name": "OPTWidgetView",
       "height": 400,
       "layout": "IPY_MODEL_3d4d2fe89ea6453cb162476deb1f82cc",
       "script": "print('Hello, World!')\n",
       "srcprefix": "https://dive4dec.github.io/optlite/live.html#code=",
       "width": 1100
      }
     },
     "2e805a056d404a1e85ea40389ba8af25": {
      "model_module": "jupyter-divewidgets",
      "model_module_version": "^0.1.5",
      "model_name": "OPTWidgetModel",
      "state": {
       "_model_module_version": "^0.1.5",
       "_model_name": "OPTWidgetModel",
       "_view_module_version": "^0.1.5",
       "_view_name": "OPTWidgetView",
       "height": 400,
       "layout": "IPY_MODEL_114952cb07fb4b3aa6b898afe768b317",
       "script": "def f(n):\n    return n*f(n-1) if n>1 else 1\n\nf(3)\n",
       "srcprefix": "https://dive4dec.github.io/optlite/live.html#code=",
       "width": 1100
      }
     },
     "30d3051fce6b4752a000d4043b6f833a": {
      "model_module": "@jupyter-widgets/base",
      "model_module_version": "1.2.0",
      "model_name": "LayoutModel",
      "state": {}
     },
     "33f298b7362148d2beb5e32b14103a4c": {
      "model_module": "@jupyter-widgets/base",
      "model_module_version": "1.2.0",
      "model_name": "LayoutModel",
      "state": {}
     },
     "3cc9fb63f1c941f19cdb19b613f4c25a": {
      "model_module": "jupyter-divewidgets",
      "model_module_version": "^0.1.5",
      "model_name": "JSWidgetModel",
      "state": {
       "_model_module_version": "^0.1.5",
       "_view_module_version": "^0.1.5",
       "height": -1,
       "html": "<!DOCTYPE html>\n<html>\n<head>\n  <script src=\"https://cdn.jsdelivr.net/npm/mermaid/dist/mermaid.min.js\"></script>\n    <style>\n        body {\n            padding: 0;\n            margin: 0;\n        }        \n        .mermaid > svg {\n          max-width:100%;\n          height: auto;\n        }\n    </style>\n</head>\n<body>\n    <div class=\"mermaid\">\n    </div>\n    <script>mermaid.initialize({startOnLoad:false});\n    var render = (function () {\n      var element = document.querySelector('.mermaid');\n      var insertSvg = function(svgCode, bindFunctions) {\n        element.innerHTML = svgCode;\n      };\n      return (code) => {\n        mermaid.mermaidAPI.render('rendered-mermaid',code,insertSvg);\n      };    \n    })()\n    </script>\n</body>\n</html>",
       "js": "render(`\ngraph TD \nA[a] --> B[b] \nB --> C[c] \nB --> D[d]\n`);",
       "layout": "IPY_MODEL_33f298b7362148d2beb5e32b14103a4c",
       "width": -1
      }
     },
     "3d4d2fe89ea6453cb162476deb1f82cc": {
      "model_module": "@jupyter-widgets/base",
      "model_module_version": "1.2.0",
      "model_name": "LayoutModel",
      "state": {}
     },
     "45014fc867a540f6b936d10f3a1fe5fe": {
      "model_module": "jupyter-divewidgets",
      "model_module_version": "^0.1.5",
      "model_name": "JSWidgetModel",
      "state": {
       "_model_module_version": "^0.1.5",
       "_view_module_version": "^0.1.5",
       "html": "<!DOCTYPE html>\n<html>\n    <head>\n    <style>\n    html, body {\n        height: 100%;\n    }\n    body {\n        width: 100%;\n        display: flex;\n        padding: 0;\n        margin: 0;\n    }\n    .jxgbox {\n        width:100%; \n        flex-grow: 1;\n    }\n    </style>\n    <link rel=\"stylesheet\" type=\"text/css\" href=\"https://jsxgraph.org/distrib/jsxgraph.css\" />\n    <script type=\"text/javascript\" src=\"https://cdn.jsdelivr.net/npm/jsxgraph/distrib/jsxgraphcore.js\"></script>\n    <script type=\"text/javascript\" src=\"https://cdn.jsdelivr.net/npm/mathjax@3/es5/tex-chtml.js\"></script>\n    </head>\n<body>\n<div id=\"box\" class=\"jxgbox\"></div>\n</body>\n</html>",
       "js": "JXG.Options.text.useMathJax = true;\nvar brd = JXG.JSXGraph.initBoard('box', {\n    boundingbox: [-8, 8, 8, -4],\n    axis: true,\n    showCopyright: false\n});\nvar a = brd.create('slider', [\n    [3, 3],\n    [6, 3],\n    [-3, 1, 3]\n], {\n    name: 'a',\n    snapWidth: 0.1\n});\nvar b = brd.create('slider', [\n    [3, 2],\n    [6, 2],\n    [-3, 0, 3]\n], {\n    name: 'b',\n    snapWidth: 0.1\n});\nvar c = brd.create('slider', [\n    [3, 1],\n    [6, 1],\n    [-3, 0, 3]\n], {\n    name: 'c',\n    snapWidth: 0.1\n});\nbrd.create('functiongraph', [function(x) {\n    return a.Value() * x * x + b.Value() * x + c.Value();\n}, -10, 10]);\nbrd.create('text',\n    [-2, 0,\n        function() {\n            return String.raw`\n              \\begin{align*} \n              y&=ax^2+bx+c\\\\ \n               &= ${a.Value().toFixed(2)}x^2 \n                + ${b.Value().toFixed(2)}x \n                + ${c.Value().toFixed(2)}\n              \\end{align*}`;\n        }\n    ], {\n        anchorX: 'right',\n        anchorY: 'bottom'\n    });",
       "layout": "IPY_MODEL_889ebc56fc4044359ec1c3bae145e481"
      }
     },
     "4c3dd3ce730040c5abfbcba2d291a15d": {
      "model_module": "@jupyter-widgets/base",
      "model_module_version": "1.2.0",
      "model_name": "LayoutModel",
      "state": {}
     },
     "4dd4fe31d18049ee9d9180595be42dbf": {
      "model_module": "@jupyter-widgets/base",
      "model_module_version": "1.2.0",
      "model_name": "LayoutModel",
      "state": {}
     },
     "58c5b844bb6a4e1c8f16fc807c4f368e": {
      "model_module": "@jupyter-widgets/base",
      "model_module_version": "1.2.0",
      "model_name": "LayoutModel",
      "state": {}
     },
     "668922d98fa546b4b9ff92711ad38cf4": {
      "model_module": "@jupyter-widgets/base",
      "model_module_version": "1.2.0",
      "model_name": "LayoutModel",
      "state": {}
     },
     "688d5c03c76d4e2aafc3ac6c4ea19d8f": {
      "model_module": "@jupyter-widgets/base",
      "model_module_version": "1.2.0",
      "model_name": "LayoutModel",
      "state": {}
     },
     "6da63360a6b74f5491924f1d55f9bc0c": {
      "model_module": "jupyter-divewidgets",
      "model_module_version": "^0.1.5",
      "model_name": "OPTWidgetModel",
      "state": {
       "_model_module_version": "^0.1.5",
       "_model_name": "OPTWidgetModel",
       "_view_module_version": "^0.1.5",
       "_view_name": "OPTWidgetView",
       "height": 300,
       "layout": "IPY_MODEL_7d4155a288484b47b3496bd66da69b28",
       "script": "msg = 'Hello, World!'\nprint(msg)\n",
       "srcprefix": "https://dive4dec.github.io/optlite/#mode=display&code=",
       "width": 1100
      }
     },
     "6f88131c4359499f9a74f76678b7bbf5": {
      "model_module": "jupyter-divewidgets",
      "model_module_version": "^0.1.5",
      "model_name": "OPTWidgetModel",
      "state": {
       "_model_module_version": "^0.1.5",
       "_model_name": "OPTWidgetModel",
       "_view_module_version": "^0.1.5",
       "_view_name": "OPTWidgetView",
       "height": 200,
       "layout": "IPY_MODEL_8d69eb27f90f448ca743ae660baee61b",
       "script": "print('Hello, World!')\n",
       "srcprefix": "https://dive4dec.github.io/optlite/#mode=display&code=",
       "width": 1100
      }
     },
     "75db6d625cfc40ffb87dbd7ca78dfa77": {
      "model_module": "jupyter-divewidgets",
      "model_module_version": "^0.1.5",
      "model_name": "OPTWidgetModel",
      "state": {
       "_model_module_version": "^0.1.5",
       "_model_name": "OPTWidgetModel",
       "_view_module_version": "^0.1.5",
       "_view_name": "OPTWidgetView",
       "height": 100,
       "layout": "IPY_MODEL_82c828379c614db49583f282c5cadcc8",
       "script": "print('Hello, World!')\n",
       "srcprefix": "https://dive4dec.github.io/optlite/live.html#code=",
       "width": 1100
      }
     },
     "778f05f3face4f70916332c9d74d476c": {
      "model_module": "jupyter-divewidgets",
      "model_module_version": "^0.1.5",
      "model_name": "JSWidgetModel",
      "state": {
       "_model_module_version": "^0.1.5",
       "_view_module_version": "^0.1.5",
       "height": -1,
       "html": "<!DOCTYPE html>\n<html>\n<head>\n  <script src=\"https://cdnjs.cloudflare.com/ajax/libs/raphael/2.3.0/raphael.min.js\"></script>\n  <script src=\"https://cdnjs.cloudflare.com/ajax/libs/flowchart/1.17.1/flowchart.min.js\"></script>\n    <style>\n        body {\n            padding: 0;\n            margin: 0;\n        }\n        #diagram > svg {\n          max-width:100%;\n          height: auto;\n        }\n    </style>\n</head>\n<body>\n    <div id=\"diagram\">\n    </div>\n    <script>\n    var render = (function () {\n      return (code) => {\n        document.getElementById('diagram').innerHTML = '';\n        flowchart.parse(code).drawSVG('diagram');\n      };    \n    })()\n    </script>\n</body>\n</html>",
       "js": "render(`\ncond3=>condition: if (not input(1))\ncond8=>condition: if input(2)\nsub12=>subroutine: input(3)\n\ncond3(yes)->cond8\ncond8(yes)->sub12\n`);",
       "layout": "IPY_MODEL_4c3dd3ce730040c5abfbcba2d291a15d",
       "width": -1
      }
     },
     "7c283f73027043b9803b2cd9a759fb38": {
      "model_module": "@jupyter-widgets/base",
      "model_module_version": "1.2.0",
      "model_name": "LayoutModel",
      "state": {}
     },
     "7d4155a288484b47b3496bd66da69b28": {
      "model_module": "@jupyter-widgets/base",
      "model_module_version": "1.2.0",
      "model_name": "LayoutModel",
      "state": {}
     },
     "82c828379c614db49583f282c5cadcc8": {
      "model_module": "@jupyter-widgets/base",
      "model_module_version": "1.2.0",
      "model_name": "LayoutModel",
      "state": {}
     },
     "8816b93a0de64bb284a9c9d76d4ebd54": {
      "model_module": "jupyter-divewidgets",
      "model_module_version": "^0.1.5",
      "model_name": "JSWidgetModel",
      "state": {
       "_model_module_version": "^0.1.5",
       "_view_module_version": "^0.1.5",
       "height": 200,
       "html": "<!DOCTYPE html>\n<html>\n    <head>\n    <style>\n    html, body {\n        height: 100%;\n    }\n    body {\n        width: 100%;\n        display: flex;\n        padding: 0;\n        margin: 0;\n    }\n    .jxgbox {\n        width:100%; \n        flex-grow: 1;\n    }\n    </style>\n    <link rel=\"stylesheet\" type=\"text/css\" href=\"https://jsxgraph.org/distrib/jsxgraph.css\" />\n    <script type=\"text/javascript\" src=\"https://cdn.jsdelivr.net/npm/jsxgraph/distrib/jsxgraphcore.js\"></script>\n    <script type=\"text/javascript\" src=\"https://www.cs.cityu.edu.hk/~ccha23/js/load-mathjax.js\"></script>\n    </head>\n<body>\n<div id=\"jxgbox\" class=\"jxgbox\"></div>\n</body>\n</html>",
       "js": "JXG.Options.text.useMathJax = true;\nconst brd = JXG.JSXGraph.initBoard('jxgbox', {\n    boundingbox: [-8, 8, 8, -4],\n    axis: true,\n    showCopyright: false\n});\nconst a = brd.create('slider', [\n    [3, 3],\n    [6, 3],\n    [-3, 1, 3]\n], {\n    name: 'a',\n    snapWidth: 0.1\n});\nconst b = brd.create('slider', [\n    [3, 2],\n    [6, 2],\n    [-3, 0, 3]\n], {\n    name: 'b',\n    snapWidth: 0.1\n});\nconst c = brd.create('slider', [\n    [3, 1],\n    [6, 1],\n    [-3, 0, 3]\n], {\n    name: 'c',\n    snapWidth: 0.1\n});\nbrd.create('functiongraph', [function(x) {\n    return a.Value() * x * x + b.Value() * x + c.Value();\n}, -10, 10]);\nbrd.create('text',\n    [-1, -1,\n        function() {\n            return String.raw`\n              \\begin{empheq}[left={\\text{Parabola} \\empheqlbrace}]{align}\n              y&=ax^2+bx+c\\tag{1}\\\\ \n               &= ${a.Value().toFixed(2)}x^2 \n                + ${b.Value().toFixed(2)}x \n                + ${c.Value().toFixed(2)} \\tag{2}\n              \\end{empheq}`;\n        }\n    ], {\n        anchorX: 'right',\n        anchorY: 'top'\n    });",
       "layout": "IPY_MODEL_58c5b844bb6a4e1c8f16fc807c4f368e"
      }
     },
     "889ebc56fc4044359ec1c3bae145e481": {
      "model_module": "@jupyter-widgets/base",
      "model_module_version": "1.2.0",
      "model_name": "LayoutModel",
      "state": {}
     },
     "8d69eb27f90f448ca743ae660baee61b": {
      "model_module": "@jupyter-widgets/base",
      "model_module_version": "1.2.0",
      "model_name": "LayoutModel",
      "state": {}
     },
     "8da23602bc5a490fb48bcd36e5747e87": {
      "model_module": "@jupyter-widgets/base",
      "model_module_version": "1.2.0",
      "model_name": "LayoutModel",
      "state": {}
     },
     "90b16f247cb4429798a16e9326f1b6b5": {
      "model_module": "jupyter-divewidgets",
      "model_module_version": "^0.1.5",
      "model_name": "OPTWidgetModel",
      "state": {
       "_model_module_version": "^0.1.5",
       "_model_name": "OPTWidgetModel",
       "_view_module_version": "^0.1.5",
       "_view_name": "OPTWidgetView",
       "height": 700,
       "layout": "IPY_MODEL_668922d98fa546b4b9ff92711ad38cf4",
       "script": "print('Hello, World!')\n",
       "srcprefix": "https://dive4dec.github.io/optlite/live.html#code=",
       "width": 1100
      }
     },
     "a04a013a6fb14b359cce7c222575e896": {
      "model_module": "jupyter-divewidgets",
      "model_module_version": "^0.1.5",
      "model_name": "OPTWidgetModel",
      "state": {
       "_model_module_version": "^0.1.5",
       "_model_name": "OPTWidgetModel",
       "_view_module_version": "^0.1.5",
       "_view_name": "OPTWidgetView",
       "height": 100,
       "layout": "IPY_MODEL_18bb091462c6435da92d89ae6f80eb72",
       "script": "print('Hello, World!')\n",
       "srcprefix": "https://dive4dec.github.io/optlite/#mode=display&code=",
       "width": 1100
      }
     },
     "a0b6e62912f0449f8939e8bbfdd8acbd": {
      "model_module": "@jupyter-widgets/base",
      "model_module_version": "1.2.0",
      "model_name": "LayoutModel",
      "state": {}
     },
     "ad944328519745cb928e971ac8ff17bf": {
      "model_module": "jupyter-divewidgets",
      "model_module_version": "^0.1.5",
      "model_name": "OPTWidgetModel",
      "state": {
       "_model_module_version": "^0.1.5",
       "_model_name": "OPTWidgetModel",
       "_view_module_version": "^0.1.5",
       "_view_name": "OPTWidgetView",
       "height": 300,
       "layout": "IPY_MODEL_4dd4fe31d18049ee9d9180595be42dbf",
       "script": "print('Hello, World!')\n",
       "srcprefix": "https://dive4dec.github.io/optlite/#mode=display&code=",
       "width": 1100
      }
     },
     "b2a91c40157c479bb7b2eb01236cdc68": {
      "model_module": "jupyter-divewidgets",
      "model_module_version": "^0.1.5",
      "model_name": "OPTWidgetModel",
      "state": {
       "_model_module_version": "^0.1.5",
       "_model_name": "OPTWidgetModel",
       "_view_module_version": "^0.1.5",
       "_view_name": "OPTWidgetView",
       "height": 100,
       "layout": "IPY_MODEL_688d5c03c76d4e2aafc3ac6c4ea19d8f",
       "script": "print('Hello, World!')\n",
       "srcprefix": "https://dive4dec.github.io/optlite/live.html#code=",
       "width": 1100
      }
     },
     "b3f1613b89e24519bacd588633b4b883": {
      "model_module": "jupyter-divewidgets",
      "model_module_version": "^0.1.5",
      "model_name": "OPTWidgetModel",
      "state": {
       "_model_module_version": "^0.1.5",
       "_model_name": "OPTWidgetModel",
       "_view_module_version": "^0.1.5",
       "_view_name": "OPTWidgetView",
       "height": 400,
       "layout": "IPY_MODEL_7c283f73027043b9803b2cd9a759fb38",
       "script": "def f(n):\n    return n*f(n-1) if n>1 else 1\n\nf(3)\n",
       "srcprefix": "https://dive4dec.github.io/optlite/live.html#code=",
       "width": 1100
      }
     },
     "b9b2ab31aaf84dd8b0b375d17d1c1456": {
      "model_module": "@jupyter-widgets/base",
      "model_module_version": "1.2.0",
      "model_name": "LayoutModel",
      "state": {}
     },
     "e285cbaeee76461b8b7e2107f7172a91": {
      "model_module": "@jupyter-widgets/base",
      "model_module_version": "1.2.0",
      "model_name": "LayoutModel",
      "state": {}
     },
     "e792ca2ddef34797bff0e7e27d6be5a7": {
      "model_module": "jupyter-divewidgets",
      "model_module_version": "^0.1.5",
      "model_name": "OPTWidgetModel",
      "state": {
       "_model_module_version": "^0.1.5",
       "_model_name": "OPTWidgetModel",
       "_view_module_version": "^0.1.5",
       "_view_name": "OPTWidgetView",
       "height": 400,
       "layout": "IPY_MODEL_8da23602bc5a490fb48bcd36e5747e87",
       "script": "def f(n):\n    return n*f(n-1) if n>1 else 1\n\nf(3)\n",
       "srcprefix": "https://dive4dec.github.io/optlite/live.html#code=",
       "width": 1100
      }
     },
     "fa0d611d823946458d0b5ac8b2b1fd1c": {
      "model_module": "jupyter-divewidgets",
      "model_module_version": "^0.1.5",
      "model_name": "OPTWidgetModel",
      "state": {
       "_model_module_version": "^0.1.5",
       "_model_name": "OPTWidgetModel",
       "_view_module_version": "^0.1.5",
       "_view_name": "OPTWidgetView",
       "height": 400,
       "layout": "IPY_MODEL_e285cbaeee76461b8b7e2107f7172a91",
       "script": "def f(n):\n    return n*f(n-1) if n>1 else 1\n\nf(3)\n",
       "srcprefix": "https://dive4dec.github.io/optlite/live.html#code=",
       "width": 1100
      }
     },
     "fde01e0bf2a34f02a23e524e7a83d609": {
      "model_module": "jupyter-divewidgets",
      "model_module_version": "^0.1.5",
      "model_name": "OPTWidgetModel",
      "state": {
       "_model_module_version": "^0.1.5",
       "_model_name": "OPTWidgetModel",
       "_view_module_version": "^0.1.5",
       "_view_name": "OPTWidgetView",
       "height": 400,
       "layout": "IPY_MODEL_30d3051fce6b4752a000d4043b6f833a",
       "script": "def f(n):\n    return n*f(n-1) if n>1 else 1\n\nf(3)\n",
       "srcprefix": "https://dive4dec.github.io/optlite/live.html#code=",
       "width": 1100
      }
     }
    },
    "version_major": 2,
    "version_minor": 0
   }
  }
 },
 "nbformat": 4,
 "nbformat_minor": 4
}
